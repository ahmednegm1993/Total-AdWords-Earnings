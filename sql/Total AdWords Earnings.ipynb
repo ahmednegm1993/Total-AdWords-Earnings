{
 "cells": [
  {
   "cell_type": "code",
   "execution_count": 1,
   "id": "3bea1186-96c6-458b-b3d0-c8bf99006faf",
   "metadata": {},
   "outputs": [],
   "source": [
    "import pandas as pd\n",
    "import sqlite3"
   ]
  },
  {
   "cell_type": "code",
   "execution_count": 2,
   "id": "aecba2d5-eb23-4892-a814-baeeb7d746f1",
   "metadata": {},
   "outputs": [],
   "source": [
    "excel_file = 'E:\\\\Data_analysis_projects\\\\Total AdWords Earnings\\\\dataset\\\\google_adwords_earnings.xlsx'"
   ]
  },
  {
   "cell_type": "code",
   "execution_count": 3,
   "id": "bf3c9c47-47a9-47b7-8e01-416d8e4043af",
   "metadata": {},
   "outputs": [],
   "source": [
    "excel_data = pd.read_excel(excel_file, sheet_name=None)"
   ]
  },
  {
   "cell_type": "code",
   "execution_count": 4,
   "id": "cae551f0-b6e5-4e59-ab2d-58c29d7b7527",
   "metadata": {},
   "outputs": [],
   "source": [
    "conn = sqlite3.connect(':memory:')"
   ]
  },
  {
   "cell_type": "code",
   "execution_count": 5,
   "id": "c129921b-7867-4ec8-bc76-d70149e0eb12",
   "metadata": {},
   "outputs": [],
   "source": [
    "for sheet_name, df in excel_data.items():\n",
    "    df.to_sql(sheet_name, conn, index=False, if_exists='replace')"
   ]
  },
  {
   "cell_type": "code",
   "execution_count": 9,
   "id": "189fd8b3-98f6-4e8e-8863-8bbf2d060710",
   "metadata": {},
   "outputs": [],
   "source": [
    "query = \"SELECT sum(adwords_earnings) as total_adwords_earnings,business_type from Sheet1 group by business_type order by total_adwords_earnings asc\"\n"
   ]
  },
  {
   "cell_type": "code",
   "execution_count": 10,
   "id": "9c4934c7-f860-475f-8894-99b51f7101e6",
   "metadata": {},
   "outputs": [],
   "source": [
    "results = pd.read_sql_query(query, conn)"
   ]
  },
  {
   "cell_type": "code",
   "execution_count": 11,
   "id": "2cc1f76c-060e-4a44-b99d-a9a21c3f0ed4",
   "metadata": {},
   "outputs": [
    {
     "name": "stdout",
     "output_type": "stream",
     "text": [
      "   total_adwords_earnings business_type\n",
      "0                 4838988       Finance\n",
      "1                 4963904     Education\n",
      "2                 5032608    Technology\n",
      "3                 5143456        Retail\n",
      "4                 5199601    Healthcare\n"
     ]
    }
   ],
   "source": [
    "print(results)"
   ]
  },
  {
   "cell_type": "code",
   "execution_count": null,
   "id": "22263f6c-9d6d-42bc-912d-1578934efa69",
   "metadata": {},
   "outputs": [],
   "source": []
  },
  {
   "cell_type": "code",
   "execution_count": null,
   "id": "1d71204a-d00b-419a-af5d-c0cdb9d064dd",
   "metadata": {},
   "outputs": [],
   "source": []
  },
  {
   "cell_type": "code",
   "execution_count": null,
   "id": "08631ac3-502e-47cc-b0c8-0126786d68c1",
   "metadata": {},
   "outputs": [],
   "source": []
  }
 ],
 "metadata": {
  "kernelspec": {
   "display_name": "Python 3 (ipykernel)",
   "language": "python",
   "name": "python3"
  },
  "language_info": {
   "codemirror_mode": {
    "name": "ipython",
    "version": 3
   },
   "file_extension": ".py",
   "mimetype": "text/x-python",
   "name": "python",
   "nbconvert_exporter": "python",
   "pygments_lexer": "ipython3",
   "version": "3.10.0"
  }
 },
 "nbformat": 4,
 "nbformat_minor": 5
}
